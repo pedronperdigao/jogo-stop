{
 "cells": [
  {
   "cell_type": "code",
   "execution_count": 22,
   "id": "ca36ad74",
   "metadata": {},
   "outputs": [
    {
     "name": "stdout",
     "output_type": "stream",
     "text": [
      "N\n"
     ]
    }
   ],
   "source": [
    "import random\n",
    "import string\n",
    "\n",
    "#ascii_letters é a string que me traz o alfabeto todo de a-z e de A-Z\n",
    "\n",
    "#escolher a letra\n",
    "stop = random.choice(string.ascii_letters)\n",
    "print(stop)"
   ]
  }
 ],
 "metadata": {
  "kernelspec": {
   "display_name": "Python 3 (ipykernel)",
   "language": "python",
   "name": "python3"
  },
  "language_info": {
   "codemirror_mode": {
    "name": "ipython",
    "version": 3
   },
   "file_extension": ".py",
   "mimetype": "text/x-python",
   "name": "python",
   "nbconvert_exporter": "python",
   "pygments_lexer": "ipython3",
   "version": "3.9.7"
  }
 },
 "nbformat": 4,
 "nbformat_minor": 5
}
